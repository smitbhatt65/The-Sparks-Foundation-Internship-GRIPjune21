{
  "nbformat": 4,
  "nbformat_minor": 0,
  "metadata": {
    "colab": {
      "name": "Task7-Sparks-foundation.ipynb",
      "provenance": [],
      "toc_visible": true
    },
    "kernelspec": {
      "display_name": "Python 3",
      "name": "python3"
    },
    "language_info": {
      "name": "python"
    }
  },
  "cells": [
    {
      "cell_type": "markdown",
      "metadata": {
        "id": "ZjyQKKFkVHXr"
      },
      "source": [
        "# Smit Bhatt-Data Science and Business Analytics intern at the Sparks Foundation # Task-7: Stock Market Prediction using Numerical and Textual Analysis\n",
        "Objective: Create a hybrid model for stock price/performance\n",
        "prediction using numerical analysis of historical stock prices, and\n",
        "sentimental analysis of news headlines\n",
        "● Stock to analyze and predict - SENSEX (S&P BSE SENSEX)\n",
        "● Download historical stock prices from https://finance.yahoo.com\n",
        "● Download textual (news) data from https://bit.ly/36fFPI6\n",
        "\n",
        "\n",
        "\n",
        "\n",
        "\n"
      ]
    },
    {
      "cell_type": "code",
      "metadata": {
        "colab": {
          "base_uri": "https://localhost:8080/"
        },
        "id": "ZnyXn_Z1boAi",
        "outputId": "4fef73ac-1e01-4712-df2d-61c261a4b5a2"
      },
      "source": [
        "#importing required libraries\n",
        "from sklearn.preprocessing import MinMaxScaler\n",
        "from sklearn.metrics import mean_squared_error\n",
        "from sklearn import metrics \n",
        "from keras.models import Sequential\n",
        "from keras.layers import Dense, LSTM\n",
        "import pandas as pd\n",
        "import matplotlib.pyplot as plt\n",
        "import numpy as np\n",
        "import math\n",
        "import re\n",
        "import nltk\n",
        "import re\n",
        "from nltk.corpus import stopwords\n",
        "nltk.download('stopwords')\n",
        "nltk.download('vader_lexicon')\n",
        "from textblob import TextBlob\n",
        "from nltk.sentiment.vader import SentimentIntensityAnalyzer\n",
        "from sklearn.ensemble import RandomForestRegressor, AdaBoostRegressor\n",
        "import xgboost "
      ],
      "execution_count": null,
      "outputs": [
        {
          "output_type": "stream",
          "text": [
            "[nltk_data] Downloading package stopwords to /root/nltk_data...\n",
            "[nltk_data]   Unzipping corpora/stopwords.zip.\n",
            "[nltk_data] Downloading package vader_lexicon to /root/nltk_data...\n"
          ],
          "name": "stdout"
        },
        {
          "output_type": "stream",
          "text": [
            "/usr/local/lib/python3.7/dist-packages/nltk/twitter/__init__.py:20: UserWarning: The twython library has not been installed. Some functionality from the twitter package will not be available.\n",
            "  warnings.warn(\"The twython library has not been installed. \"\n"
          ],
          "name": "stderr"
        }
      ]
    },
    {
      "cell_type": "markdown",
      "metadata": {
        "id": "pwDQKEe9bwT3"
      },
      "source": [
        "# Step 1 : Importing the Numerical dataset and performing Exploratory Analysis"
      ]
    },
    {
      "cell_type": "code",
      "metadata": {
        "colab": {
          "base_uri": "https://localhost:8080/",
          "height": 204
        },
        "id": "HG7_gjVtboEE",
        "outputId": "9a84b23d-9871-494a-9b9b-003a9151f780"
      },
      "source": [
        "# Dataframe for exploratory analysis\n",
        "df=pd.read_csv('/content/drive/MyDrive/^BSESN.csv')\n",
        "df.head()"
      ],
      "execution_count": null,
      "outputs": [
        {
          "output_type": "execute_result",
          "data": {
            "text/html": [
              "<div>\n",
              "<style scoped>\n",
              "    .dataframe tbody tr th:only-of-type {\n",
              "        vertical-align: middle;\n",
              "    }\n",
              "\n",
              "    .dataframe tbody tr th {\n",
              "        vertical-align: top;\n",
              "    }\n",
              "\n",
              "    .dataframe thead th {\n",
              "        text-align: right;\n",
              "    }\n",
              "</style>\n",
              "<table border=\"1\" class=\"dataframe\">\n",
              "  <thead>\n",
              "    <tr style=\"text-align: right;\">\n",
              "      <th></th>\n",
              "      <th>Date</th>\n",
              "      <th>Open</th>\n",
              "      <th>High</th>\n",
              "      <th>Low</th>\n",
              "      <th>Close</th>\n",
              "      <th>Adj Close</th>\n",
              "      <th>Volume</th>\n",
              "    </tr>\n",
              "  </thead>\n",
              "  <tbody>\n",
              "    <tr>\n",
              "      <th>0</th>\n",
              "      <td>2019-12-17</td>\n",
              "      <td>41052.359375</td>\n",
              "      <td>41401.648438</td>\n",
              "      <td>41005.179688</td>\n",
              "      <td>41352.171875</td>\n",
              "      <td>41352.171875</td>\n",
              "      <td>19000.0</td>\n",
              "    </tr>\n",
              "    <tr>\n",
              "      <th>1</th>\n",
              "      <td>2019-12-18</td>\n",
              "      <td>41442.750000</td>\n",
              "      <td>41614.769531</td>\n",
              "      <td>41358.468750</td>\n",
              "      <td>41558.570313</td>\n",
              "      <td>41558.570313</td>\n",
              "      <td>24300.0</td>\n",
              "    </tr>\n",
              "    <tr>\n",
              "      <th>2</th>\n",
              "      <td>2019-12-19</td>\n",
              "      <td>41571.820313</td>\n",
              "      <td>41719.289063</td>\n",
              "      <td>41456.398438</td>\n",
              "      <td>41673.921875</td>\n",
              "      <td>41673.921875</td>\n",
              "      <td>33300.0</td>\n",
              "    </tr>\n",
              "    <tr>\n",
              "      <th>3</th>\n",
              "      <td>2019-12-20</td>\n",
              "      <td>41746.199219</td>\n",
              "      <td>41809.960938</td>\n",
              "      <td>41636.109375</td>\n",
              "      <td>41681.539063</td>\n",
              "      <td>41681.539063</td>\n",
              "      <td>33600.0</td>\n",
              "    </tr>\n",
              "    <tr>\n",
              "      <th>4</th>\n",
              "      <td>2019-12-23</td>\n",
              "      <td>41548.261719</td>\n",
              "      <td>41701.621094</td>\n",
              "      <td>41474.609375</td>\n",
              "      <td>41642.660156</td>\n",
              "      <td>41642.660156</td>\n",
              "      <td>6200.0</td>\n",
              "    </tr>\n",
              "  </tbody>\n",
              "</table>\n",
              "</div>"
            ],
            "text/plain": [
              "         Date          Open          High  ...         Close     Adj Close   Volume\n",
              "0  2019-12-17  41052.359375  41401.648438  ...  41352.171875  41352.171875  19000.0\n",
              "1  2019-12-18  41442.750000  41614.769531  ...  41558.570313  41558.570313  24300.0\n",
              "2  2019-12-19  41571.820313  41719.289063  ...  41673.921875  41673.921875  33300.0\n",
              "3  2019-12-20  41746.199219  41809.960938  ...  41681.539063  41681.539063  33600.0\n",
              "4  2019-12-23  41548.261719  41701.621094  ...  41642.660156  41642.660156   6200.0\n",
              "\n",
              "[5 rows x 7 columns]"
            ]
          },
          "metadata": {
            "tags": []
          },
          "execution_count": 7
        }
      ]
    },
    {
      "cell_type": "markdown",
      "metadata": {
        "id": "g8Zp5N5ceLqf"
      },
      "source": [
        "# New Section"
      ]
    },
    {
      "cell_type": "code",
      "metadata": {
        "colab": {
          "base_uri": "https://localhost:8080/",
          "height": 492
        },
        "id": "IL73Iq2wboIM",
        "outputId": "006949bf-f97e-4f00-a5fc-c3d7c0305852"
      },
      "source": [
        "# Extract date frame and plot closing stock price w.r.t time\n",
        "df['Date'] = pd.to_datetime(df.Date,format='%Y-%m-%d')\n",
        "df.index = df['Date']\n",
        "df.dropna(inplace=True)\n",
        "#plot\n",
        "plt.figure(figsize=(16,8))\n",
        "plt.plot(df['Close'], label='Close Price history')"
      ],
      "execution_count": null,
      "outputs": [
        {
          "output_type": "execute_result",
          "data": {
            "text/plain": [
              "[<matplotlib.lines.Line2D at 0x7f5d8f200c90>]"
            ]
          },
          "metadata": {
            "tags": []
          },
          "execution_count": 8
        },
        {
          "output_type": "display_data",
          "data": {
            "image/png": "[encoded data removed]",
            "text/plain": [
              "<Figure size 1152x576 with 1 Axes>"
            ]
          },
          "metadata": {
            "tags": []
          }
        }
      ]
    },
    {
      "cell_type": "code",
      "metadata": {
        "id": "dxebq4QwboNi"
      },
      "source": [
        "# fix random seed for reproducibility\n",
        "np.random.seed(7)"
      ],
      "execution_count": null,
      "outputs": []
    },
    {
      "cell_type": "markdown",
      "metadata": {
        "id": "uBkP31kel3Ul"
      },
      "source": [
        "# Step 2 : Creating a dataframe for storing the Closing stock data per day"
      ]
    },
    {
      "cell_type": "code",
      "metadata": {
        "id": "Gnu_MC55boPj"
      },
      "source": [
        "# convert an array of values into a dataset matrix\n",
        "def create_dataset(df2, look_back=1):\n",
        "\tdataX, dataY = [], []\n",
        "\tfor i in range(len(df2)-look_back-1):\n",
        "\t\ta = df2[i:(i+look_back), 0]\n",
        "\t\tdataX.append(a)\n",
        "\t\tdataY.append(df2[i + look_back, 0])\n",
        "\treturn np.array(dataX), np.array(dataY)\n"
      ],
      "execution_count": null,
      "outputs": []
    },
    {
      "cell_type": "code",
      "metadata": {
        "id": "P1xPTFXmboR9"
      },
      "source": [
        "df2 = pd.read_csv('/content/drive/MyDrive/^BSESN.csv', usecols=[5], engine='python')\n",
        "df2.dropna(inplace=True)\n",
        "df2 = df2.values\n",
        "df2 = df2.astype('float32')"
      ],
      "execution_count": null,
      "outputs": []
    },
    {
      "cell_type": "markdown",
      "metadata": {
        "id": "5cgvKz9Sl8m2"
      },
      "source": [
        "# Step 3 : Data Normalization and Division into Training and Test sets"
      ]
    },
    {
      "cell_type": "code",
      "metadata": {
        "id": "WHW9ZbL8boUj"
      },
      "source": [
        "# normalize the dataset\n",
        "scaler = MinMaxScaler(feature_range=(0, 1))\n",
        "df2 = scaler.fit_transform(df2)\n",
        "\n",
        "# split into train and test sets\n",
        "train_size = int(len(df2) * 0.67)\n",
        "test_size = len(df2) - train_size\n",
        "train, test = df2[0:train_size,:], df2[train_size:len(df2),:]"
      ],
      "execution_count": null,
      "outputs": []
    },
    {
      "cell_type": "code",
      "metadata": {
        "id": "IRL-dv4KboWw"
      },
      "source": [
        "# reshape into X=t and Y=t+1\n",
        "look_back = 3\n",
        "trainX, trainY = create_dataset(train, look_back)\n",
        "testX, testY = create_dataset(test, look_back)\n",
        "# reshape input to be [samples, time steps, features]\n",
        "trainX = np.reshape(trainX, (trainX.shape[0], trainX.shape[1], 1))\n",
        "testX = np.reshape(testX, (testX.shape[0], testX.shape[1], 1))"
      ],
      "execution_count": null,
      "outputs": []
    },
    {
      "cell_type": "markdown",
      "metadata": {
        "id": "o4T5idKcgHgd"
      },
      "source": [
        "# Step 4 : Creating a LSTM for Numerical Analysis"
      ]
    },
    {
      "cell_type": "code",
      "metadata": {
        "colab": {
          "base_uri": "https://localhost:8080/"
        },
        "id": "ybsGA3hcboaR",
        "outputId": "baff0a2e-f5df-4f8a-b844-b1439f76f72c"
      },
      "source": [
        "# create and fit the LSTM network\n",
        "model = Sequential()\n",
        "model.add(LSTM(7, input_shape=(look_back, 1)))\n",
        "model.add(Dense(1))\n",
        "model.compile(loss='mean_squared_error', optimizer='adam')\n",
        "model.fit(trainX, trainY, epochs=100, batch_size=1, verbose=2)"
      ],
      "execution_count": null,
      "outputs": [
        {
          "output_type": "stream",
          "text": [
            "Epoch 1/100\n",
            "163/163 - 17s - loss: 0.2228\n",
            "Epoch 2/100\n",
            "163/163 - 0s - loss: 0.0423\n",
            "Epoch 3/100\n",
            "163/163 - 0s - loss: 0.0241\n",
            "Epoch 4/100\n",
            "163/163 - 0s - loss: 0.0151\n",
            "Epoch 5/100\n",
            "163/163 - 0s - loss: 0.0086\n",
            "Epoch 6/100\n",
            "163/163 - 0s - loss: 0.0044\n",
            "Epoch 7/100\n",
            "163/163 - 0s - loss: 0.0025\n",
            "Epoch 8/100\n",
            "163/163 - 0s - loss: 0.0021\n",
            "Epoch 9/100\n",
            "163/163 - 0s - loss: 0.0020\n",
            "Epoch 10/100\n",
            "163/163 - 0s - loss: 0.0019\n",
            "Epoch 11/100\n",
            "163/163 - 0s - loss: 0.0020\n",
            "Epoch 12/100\n",
            "163/163 - 0s - loss: 0.0020\n",
            "Epoch 13/100\n",
            "163/163 - 0s - loss: 0.0019\n",
            "Epoch 14/100\n",
            "163/163 - 0s - loss: 0.0020\n",
            "Epoch 15/100\n",
            "163/163 - 0s - loss: 0.0020\n",
            "Epoch 16/100\n",
            "163/163 - 0s - loss: 0.0019\n",
            "Epoch 17/100\n",
            "163/163 - 0s - loss: 0.0020\n",
            "Epoch 18/100\n",
            "163/163 - 0s - loss: 0.0020\n",
            "Epoch 19/100\n",
            "163/163 - 0s - loss: 0.0019\n",
            "Epoch 20/100\n",
            "163/163 - 0s - loss: 0.0020\n",
            "Epoch 21/100\n",
            "163/163 - 0s - loss: 0.0020\n",
            "Epoch 22/100\n",
            "163/163 - 0s - loss: 0.0020\n",
            "Epoch 23/100\n",
            "163/163 - 0s - loss: 0.0019\n",
            "Epoch 24/100\n",
            "163/163 - 0s - loss: 0.0019\n",
            "Epoch 25/100\n",
            "163/163 - 0s - loss: 0.0019\n",
            "Epoch 26/100\n",
            "163/163 - 0s - loss: 0.0020\n",
            "Epoch 27/100\n",
            "163/163 - 0s - loss: 0.0019\n",
            "Epoch 28/100\n",
            "163/163 - 0s - loss: 0.0020\n",
            "Epoch 29/100\n",
            "163/163 - 0s - loss: 0.0019\n",
            "Epoch 30/100\n",
            "163/163 - 0s - loss: 0.0019\n",
            "Epoch 31/100\n",
            "163/163 - 0s - loss: 0.0018\n",
            "Epoch 32/100\n",
            "163/163 - 0s - loss: 0.0019\n",
            "Epoch 33/100\n",
            "163/163 - 0s - loss: 0.0019\n",
            "Epoch 34/100\n",
            "163/163 - 0s - loss: 0.0019\n",
            "Epoch 35/100\n",
            "163/163 - 0s - loss: 0.0019\n",
            "Epoch 36/100\n",
            "163/163 - 0s - loss: 0.0018\n",
            "Epoch 37/100\n",
            "163/163 - 0s - loss: 0.0019\n",
            "Epoch 38/100\n",
            "163/163 - 0s - loss: 0.0018\n",
            "Epoch 39/100\n",
            "163/163 - 0s - loss: 0.0018\n",
            "Epoch 40/100\n",
            "163/163 - 0s - loss: 0.0018\n",
            "Epoch 41/100\n",
            "163/163 - 0s - loss: 0.0018\n",
            "Epoch 42/100\n",
            "163/163 - 0s - loss: 0.0018\n",
            "Epoch 43/100\n",
            "163/163 - 0s - loss: 0.0017\n",
            "Epoch 44/100\n",
            "163/163 - 0s - loss: 0.0018\n",
            "Epoch 45/100\n",
            "163/163 - 0s - loss: 0.0018\n",
            "Epoch 46/100\n",
            "163/163 - 0s - loss: 0.0018\n",
            "Epoch 47/100\n",
            "163/163 - 0s - loss: 0.0017\n",
            "Epoch 48/100\n",
            "163/163 - 0s - loss: 0.0017\n",
            "Epoch 49/100\n",
            "163/163 - 0s - loss: 0.0018\n",
            "Epoch 50/100\n",
            "163/163 - 0s - loss: 0.0017\n",
            "Epoch 51/100\n",
            "163/163 - 0s - loss: 0.0018\n",
            "Epoch 52/100\n",
            "163/163 - 0s - loss: 0.0017\n",
            "Epoch 53/100\n",
            "163/163 - 0s - loss: 0.0017\n",
            "Epoch 54/100\n",
            "163/163 - 0s - loss: 0.0018\n",
            "Epoch 55/100\n",
            "163/163 - 0s - loss: 0.0017\n",
            "Epoch 56/100\n",
            "163/163 - 0s - loss: 0.0016\n",
            "Epoch 57/100\n",
            "163/163 - 0s - loss: 0.0016\n",
            "Epoch 58/100\n",
            "163/163 - 0s - loss: 0.0016\n",
            "Epoch 59/100\n",
            "163/163 - 0s - loss: 0.0016\n",
            "Epoch 60/100\n",
            "163/163 - 0s - loss: 0.0016\n",
            "Epoch 61/100\n",
            "163/163 - 0s - loss: 0.0016\n",
            "Epoch 62/100\n",
            "163/163 - 0s - loss: 0.0016\n",
            "Epoch 63/100\n",
            "163/163 - 0s - loss: 0.0015\n",
            "Epoch 64/100\n",
            "163/163 - 0s - loss: 0.0015\n",
            "Epoch 65/100\n",
            "163/163 - 0s - loss: 0.0016\n",
            "Epoch 66/100\n",
            "163/163 - 0s - loss: 0.0015\n",
            "Epoch 67/100\n",
            "163/163 - 0s - loss: 0.0016\n",
            "Epoch 68/100\n",
            "163/163 - 0s - loss: 0.0015\n",
            "Epoch 69/100\n",
            "163/163 - 0s - loss: 0.0015\n",
            "Epoch 70/100\n",
            "163/163 - 0s - loss: 0.0015\n",
            "Epoch 71/100\n",
            "163/163 - 0s - loss: 0.0015\n",
            "Epoch 72/100\n",
            "163/163 - 0s - loss: 0.0015\n",
            "Epoch 73/100\n",
            "163/163 - 0s - loss: 0.0014\n",
            "Epoch 74/100\n",
            "163/163 - 0s - loss: 0.0014\n",
            "Epoch 75/100\n",
            "163/163 - 0s - loss: 0.0014\n",
            "Epoch 76/100\n",
            "163/163 - 0s - loss: 0.0014\n",
            "Epoch 77/100\n",
            "163/163 - 0s - loss: 0.0014\n",
            "Epoch 78/100\n",
            "163/163 - 0s - loss: 0.0014\n",
            "Epoch 79/100\n",
            "163/163 - 0s - loss: 0.0014\n",
            "Epoch 80/100\n",
            "163/163 - 0s - loss: 0.0015\n",
            "Epoch 81/100\n",
            "163/163 - 0s - loss: 0.0014\n",
            "Epoch 82/100\n",
            "163/163 - 0s - loss: 0.0014\n",
            "Epoch 83/100\n",
            "163/163 - 0s - loss: 0.0014\n",
            "Epoch 84/100\n",
            "163/163 - 0s - loss: 0.0013\n",
            "Epoch 85/100\n",
            "163/163 - 0s - loss: 0.0014\n",
            "Epoch 86/100\n",
            "163/163 - 0s - loss: 0.0014\n",
            "Epoch 87/100\n",
            "163/163 - 0s - loss: 0.0014\n",
            "Epoch 88/100\n",
            "163/163 - 0s - loss: 0.0013\n",
            "Epoch 89/100\n",
            "163/163 - 0s - loss: 0.0013\n",
            "Epoch 90/100\n",
            "163/163 - 0s - loss: 0.0014\n",
            "Epoch 91/100\n",
            "163/163 - 0s - loss: 0.0014\n",
            "Epoch 92/100\n",
            "163/163 - 0s - loss: 0.0014\n",
            "Epoch 93/100\n",
            "163/163 - 0s - loss: 0.0013\n",
            "Epoch 94/100\n",
            "163/163 - 0s - loss: 0.0013\n",
            "Epoch 95/100\n",
            "163/163 - 0s - loss: 0.0013\n",
            "Epoch 96/100\n",
            "163/163 - 0s - loss: 0.0013\n",
            "Epoch 97/100\n",
            "163/163 - 0s - loss: 0.0013\n",
            "Epoch 98/100\n",
            "163/163 - 0s - loss: 0.0014\n",
            "Epoch 99/100\n",
            "163/163 - 0s - loss: 0.0013\n",
            "Epoch 100/100\n",
            "163/163 - 0s - loss: 0.0014\n"
          ],
          "name": "stdout"
        },
        {
          "output_type": "execute_result",
          "data": {
            "text/plain": [
              "<keras.callbacks.History at 0x7f5d8aa62ad0>"
            ]
          },
          "metadata": {
            "tags": []
          },
          "execution_count": 14
        }
      ]
    },
    {
      "cell_type": "code",
      "metadata": {
        "id": "desRzFJPbodb"
      },
      "source": [
        "# make predictions\n",
        "trainPredict = model.predict(trainX)\n",
        "testPredict = model.predict(testX)\n",
        "# invert predictions\n",
        "trainPredict = scaler.inverse_transform(trainPredict)\n",
        "trainY = scaler.inverse_transform([trainY])\n",
        "testPredict = scaler.inverse_transform(testPredict)\n",
        "testY = scaler.inverse_transform([testY])"
      ],
      "execution_count": null,
      "outputs": []
    },
    {
      "cell_type": "markdown",
      "metadata": {
        "id": "sWO_IZh5gb-x"
      },
      "source": [
        "# Step 5 : Making Predictions"
      ]
    },
    {
      "cell_type": "code",
      "metadata": {
        "colab": {
          "base_uri": "https://localhost:8080/",
          "height": 265
        },
        "id": "NQ_Mg57-gc9p",
        "outputId": "c0ca38d4-5ca1-4a9b-9f45-0e62130d5204"
      },
      "source": [
        "# shift train predictions for plotting\n",
        "trainPredictPlot = np.empty_like(df2)\n",
        "trainPredictPlot[:, :] = np.nan\n",
        "trainPredictPlot[look_back:len(trainPredict)+look_back, :] = trainPredict\n",
        "# shift test predictions for plotting\n",
        "testPredictPlot = np.empty_like(df2)\n",
        "testPredictPlot[:, :] = np.nan\n",
        "testPredictPlot[len(trainPredict)+(look_back*2)+1:len(df2)-1, :] = testPredict\n",
        "# plot baseline and predictions\n",
        "plt.plot(scaler.inverse_transform(df2))\n",
        "plt.plot(trainPredictPlot,color='red')\n",
        "plt.plot(testPredictPlot,color='green')\n",
        "plt.show()"
      ],
      "execution_count": null,
      "outputs": [
        {
          "output_type": "display_data",
          "data": {
            "image/png": "[encoded data removed]",
            "text/plain": [
              "<Figure size 432x288 with 1 Axes>"
            ]
          },
          "metadata": {
            "tags": []
          }
        }
      ]
    },
    {
      "cell_type": "code",
      "metadata": {
        "colab": {
          "base_uri": "https://localhost:8080/"
        },
        "id": "FjjfhOqjgdKm",
        "outputId": "3780b3c2-2e68-4f6e-f805-3da9b7900e26"
      },
      "source": [
        "# calculate root mean squared error\n",
        "trainScore = math.sqrt(mean_squared_error(trainY[0], trainPredict[:,0]))\n",
        "print(\"Root mean square error = \",trainScore,\" RMSE\")\n",
        "testScore = math.sqrt(mean_squared_error(testY[0], testPredict[:,0]))\n",
        "print(\"Root mean square error = \",testScore,\" RMSE\")"
      ],
      "execution_count": null,
      "outputs": [
        {
          "output_type": "stream",
          "text": [
            "Root mean square error =  734.3502013184836  RMSE\n",
            "Root mean square error =  439.79567906243085  RMSE\n"
          ],
          "name": "stdout"
        }
      ]
    },
    {
      "cell_type": "markdown",
      "metadata": {
        "id": "JBpkSGCJgmew"
      },
      "source": [
        "# Step 6 : Creating a Hybrid model for Numerical and textual Analysis"
      ]
    },
    {
      "cell_type": "code",
      "metadata": {
        "colab": {
          "base_uri": "https://localhost:8080/"
        },
        "id": "9LSamX7egn-9",
        "outputId": "85039947-9b3f-40eb-ff85-e8ea80db13be"
      },
      "source": [
        "#Text Analysis\n",
        "\n",
        "columns = ['Date','Category','News']\n",
        "news = pd.read_csv('/content/drive/MyDrive/india-news-headlines.csv', names = columns)\n",
        "news"
      ],
      "execution_count": null,
      "outputs": [
        {
          "output_type": "stream",
          "text": [
            "/usr/local/lib/python3.7/dist-packages/IPython/core/interactiveshell.py:2718: DtypeWarning: Columns (0) have mixed types.Specify dtype option on import or set low_memory=False.\n",
            "  interactivity=interactivity, compiler=compiler, result=result)\n"
          ],
          "name": "stderr"
        },
        {
          "output_type": "execute_result",
          "data": {
            "text/html": [
              "<div>\n",
              "<style scoped>\n",
              "    .dataframe tbody tr th:only-of-type {\n",
              "        vertical-align: middle;\n",
              "    }\n",
              "\n",
              "    .dataframe tbody tr th {\n",
              "        vertical-align: top;\n",
              "    }\n",
              "\n",
              "    .dataframe thead th {\n",
              "        text-align: right;\n",
              "    }\n",
              "</style>\n",
              "<table border=\"1\" class=\"dataframe\">\n",
              "  <thead>\n",
              "    <tr style=\"text-align: right;\">\n",
              "      <th></th>\n",
              "      <th>Date</th>\n",
              "      <th>Category</th>\n",
              "      <th>News</th>\n",
              "    </tr>\n",
              "  </thead>\n",
              "  <tbody>\n",
              "    <tr>\n",
              "      <th>0</th>\n",
              "      <td>publish_date</td>\n",
              "      <td>headline_category</td>\n",
              "      <td>headline_text</td>\n",
              "    </tr>\n",
              "    <tr>\n",
              "      <th>1</th>\n",
              "      <td>20010102</td>\n",
              "      <td>unknown</td>\n",
              "      <td>Status quo will not be disturbed at Ayodhya; s...</td>\n",
              "    </tr>\n",
              "    <tr>\n",
              "      <th>2</th>\n",
              "      <td>20010102</td>\n",
              "      <td>unknown</td>\n",
              "      <td>Fissures in Hurriyat over Pak visit</td>\n",
              "    </tr>\n",
              "    <tr>\n",
              "      <th>3</th>\n",
              "      <td>20010102</td>\n",
              "      <td>unknown</td>\n",
              "      <td>America's unwanted heading for India?</td>\n",
              "    </tr>\n",
              "    <tr>\n",
              "      <th>4</th>\n",
              "      <td>20010102</td>\n",
              "      <td>unknown</td>\n",
              "      <td>For bigwigs; it is destination Goa</td>\n",
              "    </tr>\n",
              "    <tr>\n",
              "      <th>...</th>\n",
              "      <td>...</td>\n",
              "      <td>...</td>\n",
              "      <td>...</td>\n",
              "    </tr>\n",
              "    <tr>\n",
              "      <th>3424063</th>\n",
              "      <td>20201231</td>\n",
              "      <td>city.jodhpur</td>\n",
              "      <td>Covid-19: Despite dip in cases; Rajasthan amon...</td>\n",
              "    </tr>\n",
              "    <tr>\n",
              "      <th>3424064</th>\n",
              "      <td>20201231</td>\n",
              "      <td>city.udaipur</td>\n",
              "      <td>Covid-19: Despite dip in cases; Rajasthan amon...</td>\n",
              "    </tr>\n",
              "    <tr>\n",
              "      <th>3424065</th>\n",
              "      <td>20201231</td>\n",
              "      <td>city.ajmer</td>\n",
              "      <td>Covid-19: Despite dip in cases; Rajasthan amon...</td>\n",
              "    </tr>\n",
              "    <tr>\n",
              "      <th>3424066</th>\n",
              "      <td>20201231</td>\n",
              "      <td>removed</td>\n",
              "      <td>Govt extends deadline for use of FASTag till F...</td>\n",
              "    </tr>\n",
              "    <tr>\n",
              "      <th>3424067</th>\n",
              "      <td>20201231</td>\n",
              "      <td>entertainment.bengali.movies.news</td>\n",
              "      <td>Celebs plan to party safely and responsibly on...</td>\n",
              "    </tr>\n",
              "  </tbody>\n",
              "</table>\n",
              "<p>3424068 rows × 3 columns</p>\n",
              "</div>"
            ],
            "text/plain": [
              "                 Date  ...                                               News\n",
              "0        publish_date  ...                                      headline_text\n",
              "1            20010102  ...  Status quo will not be disturbed at Ayodhya; s...\n",
              "2            20010102  ...                Fissures in Hurriyat over Pak visit\n",
              "3            20010102  ...              America's unwanted heading for India?\n",
              "4            20010102  ...                 For bigwigs; it is destination Goa\n",
              "...               ...  ...                                                ...\n",
              "3424063      20201231  ...  Covid-19: Despite dip in cases; Rajasthan amon...\n",
              "3424064      20201231  ...  Covid-19: Despite dip in cases; Rajasthan amon...\n",
              "3424065      20201231  ...  Covid-19: Despite dip in cases; Rajasthan amon...\n",
              "3424066      20201231  ...  Govt extends deadline for use of FASTag till F...\n",
              "3424067      20201231  ...  Celebs plan to party safely and responsibly on...\n",
              "\n",
              "[3424068 rows x 3 columns]"
            ]
          },
          "metadata": {
            "tags": []
          },
          "execution_count": 18
        }
      ]
    },
    {
      "cell_type": "markdown",
      "metadata": {
        "id": "KebWpsP5hj5D"
      },
      "source": [
        "# Step 7 : Text preprocessing"
      ]
    },
    {
      "cell_type": "code",
      "metadata": {
        "colab": {
          "base_uri": "https://localhost:8080/"
        },
        "id": "3P6NrtgWhpXJ",
        "outputId": "29d06e9a-c472-4062-f398-b8bd67c975d5"
      },
      "source": [
        "news.drop(0, inplace=True)\n",
        "news.drop('Category', axis = 1, inplace=True)\n",
        "news.info()"
      ],
      "execution_count": null,
      "outputs": [
        {
          "output_type": "stream",
          "text": [
            "<class 'pandas.core.frame.DataFrame'>\n",
            "Int64Index: 3424067 entries, 1 to 3424067\n",
            "Data columns (total 2 columns):\n",
            " #   Column  Dtype \n",
            "---  ------  ----- \n",
            " 0   Date    object\n",
            " 1   News    object\n",
            "dtypes: object(2)\n",
            "memory usage: 78.4+ MB\n"
          ],
          "name": "stdout"
        }
      ]
    },
    {
      "cell_type": "code",
      "metadata": {
        "colab": {
          "base_uri": "https://localhost:8080/",
          "height": 419
        },
        "id": "Bha4h3Okhpms",
        "outputId": "05518918-a2c2-408e-e045-9ae5d67a0d82"
      },
      "source": [
        "# Restructuring the date format\n",
        "news['Date'] = pd.to_datetime(news['Date'],format= '%Y %m %d')\n",
        "news"
      ],
      "execution_count": null,
      "outputs": [
        {
          "output_type": "execute_result",
          "data": {
            "text/html": [
              "<div>\n",
              "<style scoped>\n",
              "    .dataframe tbody tr th:only-of-type {\n",
              "        vertical-align: middle;\n",
              "    }\n",
              "\n",
              "    .dataframe tbody tr th {\n",
              "        vertical-align: top;\n",
              "    }\n",
              "\n",
              "    .dataframe thead th {\n",
              "        text-align: right;\n",
              "    }\n",
              "</style>\n",
              "<table border=\"1\" class=\"dataframe\">\n",
              "  <thead>\n",
              "    <tr style=\"text-align: right;\">\n",
              "      <th></th>\n",
              "      <th>Date</th>\n",
              "      <th>News</th>\n",
              "    </tr>\n",
              "  </thead>\n",
              "  <tbody>\n",
              "    <tr>\n",
              "      <th>1</th>\n",
              "      <td>2001-01-02 00:00:00.000000000</td>\n",
              "      <td>Status quo will not be disturbed at Ayodhya; s...</td>\n",
              "    </tr>\n",
              "    <tr>\n",
              "      <th>2</th>\n",
              "      <td>2001-01-02 00:00:00.000000000</td>\n",
              "      <td>Fissures in Hurriyat over Pak visit</td>\n",
              "    </tr>\n",
              "    <tr>\n",
              "      <th>3</th>\n",
              "      <td>2001-01-02 00:00:00.000000000</td>\n",
              "      <td>America's unwanted heading for India?</td>\n",
              "    </tr>\n",
              "    <tr>\n",
              "      <th>4</th>\n",
              "      <td>2001-01-02 00:00:00.000000000</td>\n",
              "      <td>For bigwigs; it is destination Goa</td>\n",
              "    </tr>\n",
              "    <tr>\n",
              "      <th>5</th>\n",
              "      <td>2001-01-02 00:00:00.000000000</td>\n",
              "      <td>Extra buses to clear tourist traffic</td>\n",
              "    </tr>\n",
              "    <tr>\n",
              "      <th>...</th>\n",
              "      <td>...</td>\n",
              "      <td>...</td>\n",
              "    </tr>\n",
              "    <tr>\n",
              "      <th>3424063</th>\n",
              "      <td>1970-01-01 00:00:00.020201231</td>\n",
              "      <td>Covid-19: Despite dip in cases; Rajasthan amon...</td>\n",
              "    </tr>\n",
              "    <tr>\n",
              "      <th>3424064</th>\n",
              "      <td>1970-01-01 00:00:00.020201231</td>\n",
              "      <td>Covid-19: Despite dip in cases; Rajasthan amon...</td>\n",
              "    </tr>\n",
              "    <tr>\n",
              "      <th>3424065</th>\n",
              "      <td>1970-01-01 00:00:00.020201231</td>\n",
              "      <td>Covid-19: Despite dip in cases; Rajasthan amon...</td>\n",
              "    </tr>\n",
              "    <tr>\n",
              "      <th>3424066</th>\n",
              "      <td>1970-01-01 00:00:00.020201231</td>\n",
              "      <td>Govt extends deadline for use of FASTag till F...</td>\n",
              "    </tr>\n",
              "    <tr>\n",
              "      <th>3424067</th>\n",
              "      <td>1970-01-01 00:00:00.020201231</td>\n",
              "      <td>Celebs plan to party safely and responsibly on...</td>\n",
              "    </tr>\n",
              "  </tbody>\n",
              "</table>\n",
              "<p>3424067 rows × 2 columns</p>\n",
              "</div>"
            ],
            "text/plain": [
              "                                 Date                                               News\n",
              "1       2001-01-02 00:00:00.000000000  Status quo will not be disturbed at Ayodhya; s...\n",
              "2       2001-01-02 00:00:00.000000000                Fissures in Hurriyat over Pak visit\n",
              "3       2001-01-02 00:00:00.000000000              America's unwanted heading for India?\n",
              "4       2001-01-02 00:00:00.000000000                 For bigwigs; it is destination Goa\n",
              "5       2001-01-02 00:00:00.000000000               Extra buses to clear tourist traffic\n",
              "...                               ...                                                ...\n",
              "3424063 1970-01-01 00:00:00.020201231  Covid-19: Despite dip in cases; Rajasthan amon...\n",
              "3424064 1970-01-01 00:00:00.020201231  Covid-19: Despite dip in cases; Rajasthan amon...\n",
              "3424065 1970-01-01 00:00:00.020201231  Covid-19: Despite dip in cases; Rajasthan amon...\n",
              "3424066 1970-01-01 00:00:00.020201231  Govt extends deadline for use of FASTag till F...\n",
              "3424067 1970-01-01 00:00:00.020201231  Celebs plan to party safely and responsibly on...\n",
              "\n",
              "[3424067 rows x 2 columns]"
            ]
          },
          "metadata": {
            "tags": []
          },
          "execution_count": 20
        }
      ]
    },
    {
      "cell_type": "code",
      "metadata": {
        "colab": {
          "base_uri": "https://localhost:8080/",
          "height": 419
        },
        "id": "T1HiyvFthzKm",
        "outputId": "c8edd5a1-028c-46b7-a371-20d3224e9130"
      },
      "source": [
        "#Grouping the headlines for each day\n",
        "news['News'] = news.groupby(['Date']).transform(lambda x : ' '.join(x)) \n",
        "news = news.drop_duplicates() \n",
        "news.reset_index(inplace = True, drop = True)\n",
        "news"
      ],
      "execution_count": null,
      "outputs": [
        {
          "output_type": "execute_result",
          "data": {
            "text/html": [
              "<div>\n",
              "<style scoped>\n",
              "    .dataframe tbody tr th:only-of-type {\n",
              "        vertical-align: middle;\n",
              "    }\n",
              "\n",
              "    .dataframe tbody tr th {\n",
              "        vertical-align: top;\n",
              "    }\n",
              "\n",
              "    .dataframe thead th {\n",
              "        text-align: right;\n",
              "    }\n",
              "</style>\n",
              "<table border=\"1\" class=\"dataframe\">\n",
              "  <thead>\n",
              "    <tr style=\"text-align: right;\">\n",
              "      <th></th>\n",
              "      <th>Date</th>\n",
              "      <th>News</th>\n",
              "    </tr>\n",
              "  </thead>\n",
              "  <tbody>\n",
              "    <tr>\n",
              "      <th>0</th>\n",
              "      <td>2001-01-02 00:00:00.000000000</td>\n",
              "      <td>Status quo will not be disturbed at Ayodhya; s...</td>\n",
              "    </tr>\n",
              "    <tr>\n",
              "      <th>1</th>\n",
              "      <td>2001-01-03 00:00:00.000000000</td>\n",
              "      <td>Powerless north India gropes in the dark Think...</td>\n",
              "    </tr>\n",
              "    <tr>\n",
              "      <th>2</th>\n",
              "      <td>2001-01-04 00:00:00.000000000</td>\n",
              "      <td>The string that pulled Stephen Hawking to Indi...</td>\n",
              "    </tr>\n",
              "    <tr>\n",
              "      <th>3</th>\n",
              "      <td>2001-01-05 00:00:00.000000000</td>\n",
              "      <td>Light combat craft takes India into club class...</td>\n",
              "    </tr>\n",
              "    <tr>\n",
              "      <th>4</th>\n",
              "      <td>2001-01-06 00:00:00.000000000</td>\n",
              "      <td>Light combat craft takes India into club class...</td>\n",
              "    </tr>\n",
              "    <tr>\n",
              "      <th>...</th>\n",
              "      <td>...</td>\n",
              "      <td>...</td>\n",
              "    </tr>\n",
              "    <tr>\n",
              "      <th>7258</th>\n",
              "      <td>1970-01-01 00:00:00.020201227</td>\n",
              "      <td>#BigInterview! Dhritiman Chatterjee: Nobody da...</td>\n",
              "    </tr>\n",
              "    <tr>\n",
              "      <th>7259</th>\n",
              "      <td>1970-01-01 00:00:00.020201228</td>\n",
              "      <td>Horoscope Today; 28 December 2020: Check astro...</td>\n",
              "    </tr>\n",
              "    <tr>\n",
              "      <th>7260</th>\n",
              "      <td>1970-01-01 00:00:00.020201229</td>\n",
              "      <td>Man recovers charred remains of 'thief' from h...</td>\n",
              "    </tr>\n",
              "    <tr>\n",
              "      <th>7261</th>\n",
              "      <td>1970-01-01 00:00:00.020201230</td>\n",
              "      <td>Numerology Readings 30 December 2020: Predicti...</td>\n",
              "    </tr>\n",
              "    <tr>\n",
              "      <th>7262</th>\n",
              "      <td>1970-01-01 00:00:00.020201231</td>\n",
              "      <td>Horoscope Today; 31 December 2020: Check astro...</td>\n",
              "    </tr>\n",
              "  </tbody>\n",
              "</table>\n",
              "<p>7263 rows × 2 columns</p>\n",
              "</div>"
            ],
            "text/plain": [
              "                              Date                                               News\n",
              "0    2001-01-02 00:00:00.000000000  Status quo will not be disturbed at Ayodhya; s...\n",
              "1    2001-01-03 00:00:00.000000000  Powerless north India gropes in the dark Think...\n",
              "2    2001-01-04 00:00:00.000000000  The string that pulled Stephen Hawking to Indi...\n",
              "3    2001-01-05 00:00:00.000000000  Light combat craft takes India into club class...\n",
              "4    2001-01-06 00:00:00.000000000  Light combat craft takes India into club class...\n",
              "...                            ...                                                ...\n",
              "7258 1970-01-01 00:00:00.020201227  #BigInterview! Dhritiman Chatterjee: Nobody da...\n",
              "7259 1970-01-01 00:00:00.020201228  Horoscope Today; 28 December 2020: Check astro...\n",
              "7260 1970-01-01 00:00:00.020201229  Man recovers charred remains of 'thief' from h...\n",
              "7261 1970-01-01 00:00:00.020201230  Numerology Readings 30 December 2020: Predicti...\n",
              "7262 1970-01-01 00:00:00.020201231  Horoscope Today; 31 December 2020: Check astro...\n",
              "\n",
              "[7263 rows x 2 columns]"
            ]
          },
          "metadata": {
            "tags": []
          },
          "execution_count": 21
        }
      ]
    },
    {
      "cell_type": "code",
      "metadata": {
        "colab": {
          "base_uri": "https://localhost:8080/"
        },
        "id": "huO4QBpjhzS7",
        "outputId": "0f1d414a-5b3f-4eee-e875-f71592dd616d"
      },
      "source": [
        "news['News']"
      ],
      "execution_count": null,
      "outputs": [
        {
          "output_type": "execute_result",
          "data": {
            "text/plain": [
              "0       Status quo will not be disturbed at Ayodhya; s...\n",
              "1       Powerless north India gropes in the dark Think...\n",
              "2       The string that pulled Stephen Hawking to Indi...\n",
              "3       Light combat craft takes India into club class...\n",
              "4       Light combat craft takes India into club class...\n",
              "                              ...                        \n",
              "7258    #BigInterview! Dhritiman Chatterjee: Nobody da...\n",
              "7259    Horoscope Today; 28 December 2020: Check astro...\n",
              "7260    Man recovers charred remains of 'thief' from h...\n",
              "7261    Numerology Readings 30 December 2020: Predicti...\n",
              "7262    Horoscope Today; 31 December 2020: Check astro...\n",
              "Name: News, Length: 7263, dtype: object"
            ]
          },
          "metadata": {
            "tags": []
          },
          "execution_count": 22
        }
      ]
    },
    {
      "cell_type": "markdown",
      "metadata": {
        "id": "9VsUqWFjh5fb"
      },
      "source": [
        "# Step 8 : Adding subjectivity and polarity Scores"
      ]
    },
    {
      "cell_type": "code",
      "metadata": {
        "id": "waMOX-lsh2Pa"
      },
      "source": [
        "#Functions to get the subjectivity and polarity\n",
        "def getSubjectivity(text):\n",
        "  return TextBlob(text).sentiment.subjectivity\n",
        "\n",
        "def getPolarity(text):\n",
        "  return  TextBlob(text).sentiment.polarity"
      ],
      "execution_count": null,
      "outputs": []
    },
    {
      "cell_type": "code",
      "metadata": {
        "colab": {
          "background_save": true,
          "base_uri": "https://localhost:8080/"
        },
        "id": "LkQ5VjDph2Zm",
        "outputId": "c185ac1c-6ad5-4fae-acff-7ff6625aad46"
      },
      "source": [
        "#Adding subjectivity and polarity columns\n",
        "news['Subjectivity'] = news['News'].apply(getSubjectivity)\n",
        "news['Polarity'] = news['News'].apply(getPolarity)\n",
        "news"
      ],
      "execution_count": null,
      "outputs": [
        {
          "output_type": "stream",
          "text": [
            "/usr/local/lib/python3.7/dist-packages/ipykernel_launcher.py:2: SettingWithCopyWarning: \n",
            "A value is trying to be set on a copy of a slice from a DataFrame.\n",
            "Try using .loc[row_indexer,col_indexer] = value instead\n",
            "\n",
            "See the caveats in the documentation: https://pandas.pydata.org/pandas-docs/stable/user_guide/indexing.html#returning-a-view-versus-a-copy\n",
            "  \n",
            "/usr/local/lib/python3.7/dist-packages/ipykernel_launcher.py:3: SettingWithCopyWarning: \n",
            "A value is trying to be set on a copy of a slice from a DataFrame.\n",
            "Try using .loc[row_indexer,col_indexer] = value instead\n",
            "\n",
            "See the caveats in the documentation: https://pandas.pydata.org/pandas-docs/stable/user_guide/indexing.html#returning-a-view-versus-a-copy\n",
            "  This is separate from the ipykernel package so we can avoid doing imports until\n"
          ],
          "name": "stderr"
        },
        {
          "output_type": "execute_result",
          "data": {
            "text/html": [
              "<div>\n",
              "<style scoped>\n",
              "    .dataframe tbody tr th:only-of-type {\n",
              "        vertical-align: middle;\n",
              "    }\n",
              "\n",
              "    .dataframe tbody tr th {\n",
              "        vertical-align: top;\n",
              "    }\n",
              "\n",
              "    .dataframe thead th {\n",
              "        text-align: right;\n",
              "    }\n",
              "</style>\n",
              "<table border=\"1\" class=\"dataframe\">\n",
              "  <thead>\n",
              "    <tr style=\"text-align: right;\">\n",
              "      <th></th>\n",
              "      <th>Date</th>\n",
              "      <th>News</th>\n",
              "      <th>Subjectivity</th>\n",
              "      <th>Polarity</th>\n",
              "    </tr>\n",
              "  </thead>\n",
              "  <tbody>\n",
              "    <tr>\n",
              "      <th>0</th>\n",
              "      <td>2001-01-02 00:00:00.000000000</td>\n",
              "      <td>Status quo will not be disturbed at Ayodhya; s...</td>\n",
              "      <td>0.282333</td>\n",
              "      <td>0.151333</td>\n",
              "    </tr>\n",
              "    <tr>\n",
              "      <th>1</th>\n",
              "      <td>2001-01-03 00:00:00.000000000</td>\n",
              "      <td>Powerless north India gropes in the dark Think...</td>\n",
              "      <td>0.407692</td>\n",
              "      <td>0.088462</td>\n",
              "    </tr>\n",
              "    <tr>\n",
              "      <th>2</th>\n",
              "      <td>2001-01-04 00:00:00.000000000</td>\n",
              "      <td>The string that pulled Stephen Hawking to Indi...</td>\n",
              "      <td>0.446847</td>\n",
              "      <td>0.087961</td>\n",
              "    </tr>\n",
              "    <tr>\n",
              "      <th>3</th>\n",
              "      <td>2001-01-05 00:00:00.000000000</td>\n",
              "      <td>Light combat craft takes India into club class...</td>\n",
              "      <td>0.476612</td>\n",
              "      <td>0.262024</td>\n",
              "    </tr>\n",
              "    <tr>\n",
              "      <th>4</th>\n",
              "      <td>2001-01-06 00:00:00.000000000</td>\n",
              "      <td>Light combat craft takes India into club class...</td>\n",
              "      <td>0.439394</td>\n",
              "      <td>0.248485</td>\n",
              "    </tr>\n",
              "    <tr>\n",
              "      <th>...</th>\n",
              "      <td>...</td>\n",
              "      <td>...</td>\n",
              "      <td>...</td>\n",
              "      <td>...</td>\n",
              "    </tr>\n",
              "    <tr>\n",
              "      <th>7258</th>\n",
              "      <td>1970-01-01 00:00:00.020201227</td>\n",
              "      <td>#BigInterview! Dhritiman Chatterjee: Nobody da...</td>\n",
              "      <td>0.395808</td>\n",
              "      <td>0.035886</td>\n",
              "    </tr>\n",
              "    <tr>\n",
              "      <th>7259</th>\n",
              "      <td>1970-01-01 00:00:00.020201228</td>\n",
              "      <td>Horoscope Today; 28 December 2020: Check astro...</td>\n",
              "      <td>0.412945</td>\n",
              "      <td>0.070517</td>\n",
              "    </tr>\n",
              "    <tr>\n",
              "      <th>7260</th>\n",
              "      <td>1970-01-01 00:00:00.020201229</td>\n",
              "      <td>Man recovers charred remains of 'thief' from h...</td>\n",
              "      <td>0.424021</td>\n",
              "      <td>0.061210</td>\n",
              "    </tr>\n",
              "    <tr>\n",
              "      <th>7261</th>\n",
              "      <td>1970-01-01 00:00:00.020201230</td>\n",
              "      <td>Numerology Readings 30 December 2020: Predicti...</td>\n",
              "      <td>0.441660</td>\n",
              "      <td>0.043496</td>\n",
              "    </tr>\n",
              "    <tr>\n",
              "      <th>7262</th>\n",
              "      <td>1970-01-01 00:00:00.020201231</td>\n",
              "      <td>Horoscope Today; 31 December 2020: Check astro...</td>\n",
              "      <td>0.406220</td>\n",
              "      <td>0.091373</td>\n",
              "    </tr>\n",
              "  </tbody>\n",
              "</table>\n",
              "<p>7263 rows × 4 columns</p>\n",
              "</div>"
            ],
            "text/plain": [
              "                              Date  ...  Polarity\n",
              "0    2001-01-02 00:00:00.000000000  ...  0.151333\n",
              "1    2001-01-03 00:00:00.000000000  ...  0.088462\n",
              "2    2001-01-04 00:00:00.000000000  ...  0.087961\n",
              "3    2001-01-05 00:00:00.000000000  ...  0.262024\n",
              "4    2001-01-06 00:00:00.000000000  ...  0.248485\n",
              "...                            ...  ...       ...\n",
              "7258 1970-01-01 00:00:00.020201227  ...  0.035886\n",
              "7259 1970-01-01 00:00:00.020201228  ...  0.070517\n",
              "7260 1970-01-01 00:00:00.020201229  ...  0.061210\n",
              "7261 1970-01-01 00:00:00.020201230  ...  0.043496\n",
              "7262 1970-01-01 00:00:00.020201231  ...  0.091373\n",
              "\n",
              "[7263 rows x 4 columns]"
            ]
          },
          "metadata": {
            "tags": []
          },
          "execution_count": 0
        }
      ]
    },
    {
      "cell_type": "markdown",
      "metadata": {
        "id": "MBAcKQoOiDhN"
      },
      "source": [
        "# Step 9 : Visualizing the polarity and Subjectivity scores"
      ]
    },
    {
      "cell_type": "code",
      "metadata": {
        "colab": {
          "background_save": true
        },
        "id": "tMpafV0UiF8Z",
        "outputId": "2f98b364-3cef-4e1a-858e-aafe3eafe47d"
      },
      "source": [
        "plt.figure(figsize = (10,6))\n",
        "news['Polarity'].hist(color = 'red')"
      ],
      "execution_count": null,
      "outputs": [
        {
          "output_type": "execute_result",
          "data": {
            "text/plain": [
              "<matplotlib.axes._subplots.AxesSubplot at 0x7f5d72946f50>"
            ]
          },
          "metadata": {
            "tags": []
          },
          "execution_count": 0
        },
        {
          "output_type": "display_data",
          "data": {
            "image/png": "[encoded data removed]",
            "text/plain": [
              "<Figure size 720x432 with 1 Axes>"
            ]
          },
          "metadata": {
            "tags": []
          }
        }
      ]
    },
    {
      "cell_type": "code",
      "metadata": {
        "colab": {
          "background_save": true
        },
        "id": "9aLRKbXBiGK_",
        "outputId": "dce22fde-32f8-4a5a-dcc4-1854c6366fb6"
      },
      "source": [
        "plt.figure(figsize = (10,6))\n",
        "news['Subjectivity'].hist(color = 'green')"
      ],
      "execution_count": null,
      "outputs": [
        {
          "output_type": "execute_result",
          "data": {
            "text/plain": [
              "<matplotlib.axes._subplots.AxesSubplot at 0x7f5d6d4d6990>"
            ]
          },
          "metadata": {
            "tags": []
          },
          "execution_count": 0
        },
        {
          "output_type": "display_data",
          "data": {
            "image/png": "[encoded data removed]",
            "text/plain": [
              "<Figure size 720x432 with 1 Axes>"
            ]
          },
          "metadata": {
            "tags": []
          }
        }
      ]
    },
    {
      "cell_type": "markdown",
      "metadata": {
        "id": "QXy3Po85iQxJ"
      },
      "source": [
        "# Step 10 : Performing Sentiment Analysis over the news Headlines"
      ]
    },
    {
      "cell_type": "code",
      "metadata": {
        "colab": {
          "background_save": true
        },
        "id": "3zdbBk47iR_u",
        "outputId": "c482b785-cb26-43c8-b742-867bc784823a"
      },
      "source": [
        "#Adding sentiment score to news\n",
        "sia = SentimentIntensityAnalyzer()\n",
        "\n",
        "news['Compound'] = [sia.polarity_scores(v)['compound'] for v in news['News']]\n",
        "news['Negative'] = [sia.polarity_scores(v)['neg'] for v in news['News']]\n",
        "news['Neutral'] = [sia.polarity_scores(v)['neu'] for v in news['News']]\n",
        "news['Positive'] = [sia.polarity_scores(v)['pos'] for v in news['News']]\n",
        "news"
      ],
      "execution_count": null,
      "outputs": [
        {
          "output_type": "stream",
          "text": [
            "/usr/local/lib/python3.7/dist-packages/ipykernel_launcher.py:4: SettingWithCopyWarning: \n",
            "A value is trying to be set on a copy of a slice from a DataFrame.\n",
            "Try using .loc[row_indexer,col_indexer] = value instead\n",
            "\n",
            "See the caveats in the documentation: https://pandas.pydata.org/pandas-docs/stable/user_guide/indexing.html#returning-a-view-versus-a-copy\n",
            "  after removing the cwd from sys.path.\n",
            "/usr/local/lib/python3.7/dist-packages/ipykernel_launcher.py:5: SettingWithCopyWarning: \n",
            "A value is trying to be set on a copy of a slice from a DataFrame.\n",
            "Try using .loc[row_indexer,col_indexer] = value instead\n",
            "\n",
            "See the caveats in the documentation: https://pandas.pydata.org/pandas-docs/stable/user_guide/indexing.html#returning-a-view-versus-a-copy\n",
            "  \"\"\"\n",
            "/usr/local/lib/python3.7/dist-packages/ipykernel_launcher.py:6: SettingWithCopyWarning: \n",
            "A value is trying to be set on a copy of a slice from a DataFrame.\n",
            "Try using .loc[row_indexer,col_indexer] = value instead\n",
            "\n",
            "See the caveats in the documentation: https://pandas.pydata.org/pandas-docs/stable/user_guide/indexing.html#returning-a-view-versus-a-copy\n",
            "  \n"
          ],
          "name": "stderr"
        }
      ]
    },
    {
      "cell_type": "markdown",
      "metadata": {
        "id": "InzwGiR_iXXn"
      },
      "source": [
        "# Step 11 : Merging the numerical and textual data"
      ]
    },
    {
      "cell_type": "code",
      "metadata": {
        "id": "2wUJcy5niSIj"
      },
      "source": [
        "merge = news\n",
        "merge"
      ],
      "execution_count": null,
      "outputs": []
    },
    {
      "cell_type": "code",
      "metadata": {
        "id": "vpKFjL11if9p"
      },
      "source": [
        "dff = merge[['Subjectivity', 'Polarity', 'Compound', 'Negative', 'Neutral' ,'Positive']]\n",
        "dff"
      ],
      "execution_count": null,
      "outputs": []
    },
    {
      "cell_type": "code",
      "metadata": {
        "id": "adsssKtPigoI"
      },
      "source": [
        "from sklearn.preprocessing import MinMaxScaler\n",
        "sc = MinMaxScaler()\n",
        "new_df = pd.DataFrame(sc.fit_transform(dff))\n",
        "new_df.columns = dff.columns\n",
        "new_df.index = dff.index\n",
        "new_df.head()"
      ],
      "execution_count": null,
      "outputs": []
    },
    {
      "cell_type": "code",
      "metadata": {
        "id": "yfBC8wv9iljQ"
      },
      "source": [
        "X = new_df[0:249]\n",
        "y =df['Close']"
      ],
      "execution_count": null,
      "outputs": []
    },
    {
      "cell_type": "code",
      "metadata": {
        "id": "pO8koYDBioQY"
      },
      "source": [
        "from sklearn.model_selection import train_test_split\n",
        "\n",
        "x_train, x_test, y_train, y_test = train_test_split(X, y, test_size=0.2, random_state = 0)\n",
        "x_train.shape"
      ],
      "execution_count": null,
      "outputs": []
    },
    {
      "cell_type": "code",
      "metadata": {
        "id": "025WtiWCirDQ"
      },
      "source": [
        "x_train[:10]"
      ],
      "execution_count": null,
      "outputs": []
    },
    {
      "cell_type": "markdown",
      "metadata": {
        "id": "rct537XMit6v"
      },
      "source": [
        "# Step 12 : Training a Random Forest Regressor and Adaboost Regressor for hybrid analysis"
      ]
    },
    {
      "cell_type": "code",
      "metadata": {
        "id": "K3HrZFVDiv0v"
      },
      "source": [
        "rf = RandomForestRegressor()\n",
        "rf.fit(x_train, y_train)\n",
        "prediction=rf.predict(x_test)"
      ],
      "execution_count": null,
      "outputs": []
    },
    {
      "cell_type": "markdown",
      "metadata": {
        "id": "2nADWlZTiylK"
      },
      "source": [
        "# Step 13 : Determining the accuracy scores for both the Models"
      ]
    },
    {
      "cell_type": "code",
      "metadata": {
        "id": "8HRHlLmOiyFY"
      },
      "source": [
        "print(prediction[:10])\n",
        "print(y_test[:10])\n",
        "print(\"Root mean square error = \",math.sqrt(mean_squared_error(prediction,y_test)),\" RMSE\")"
      ],
      "execution_count": null,
      "outputs": []
    },
    {
      "cell_type": "code",
      "metadata": {
        "id": "8c6-ytkni6gU"
      },
      "source": [
        "adb = AdaBoostRegressor()\n",
        "adb.fit(x_train, y_train)\n",
        "predictions = adb.predict(x_test)"
      ],
      "execution_count": null,
      "outputs": []
    },
    {
      "cell_type": "code",
      "metadata": {
        "id": "mPNacHJ-i9JA"
      },
      "source": [
        "print(\"Root mean square error = \",math.sqrt(mean_squared_error(predictions, y_test)),\" RMSE\")"
      ],
      "execution_count": null,
      "outputs": []
    },
    {
      "cell_type": "markdown",
      "metadata": {
        "id": "Vg-CujCPjD-k"
      },
      "source": [
        "I have used two models, i.e., Random Forest Regressor and Adaboost Regressor to carry out hybrid analysis. From the RMSE values we see that Random Forest Regressor gives a mode accurate output (3960 RMSE). However, both the models have very high RMSE values. The reason for high values is the unpredictible nature of the stock prices.\n",
        "\n",
        "\n",
        "# Thank You"
      ]
    }
  ]
}